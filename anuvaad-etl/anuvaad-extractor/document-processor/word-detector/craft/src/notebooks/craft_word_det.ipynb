{
 "cells": [
  {
   "cell_type": "code",
   "execution_count": null,
   "metadata": {},
   "outputs": [],
   "source": [
    "import os\n",
    "import sys\n",
    "import uuid\n",
    "import cv2\n",
    "import numpy as np\n",
    "import matplotlib.pyplot as plt\n",
    "from PIL import Image, ImageDraw\n",
    "from src.services.main import TextDetection\n",
    "plt.rcParams['figure.dpi'] = 300"
   ]
  },
  {
   "cell_type": "code",
   "execution_count": null,
   "metadata": {},
   "outputs": [],
   "source": [
    "nb_dir = '/'.join(os.getcwd().split('/')[:-1])\n",
    "sys.path.append(nb_dir)\n",
    "sys.path.append(os.path.split(nb_dir)[0])"
   ]
  },
  {
   "cell_type": "code",
   "execution_count": null,
   "metadata": {},
   "outputs": [],
   "source": [
    "import config\n",
    "import src.utilities.app_context as app_context\n",
    "app_context.init()\n",
    "\n",
    "#path to craft model, weight can be pulled form the production bracnh of repo\n",
    "config.CRAFT_MODEL_PATH= nb_dir + '/utilities/craft_pytorch/model/craft_mlt_25k.pth'\n",
    "config.CRAFT_REFINE_MODEL_PATH = nb_dir + '/utilities/craft_pytorch/model/craft_refiner_CTW1500.pth'"
   ]
  },
  {
   "cell_type": "code",
   "execution_count": null,
   "metadata": {},
   "outputs": [],
   "source": [
    "def draw_region(page_path,corrds,color= (255,0,0),thickness=5, save=False):\n",
    "    \n",
    "    if type(page_path) == str :  \n",
    "        image = cv2.imread(page_path) \n",
    "    else :\n",
    "        image = page_path\n",
    "    for region in corrds :\n",
    "            ground = region['boundingBox']['vertices']\n",
    "            #start_point  = (ground[0]['x'],ground[0]['y'])\n",
    "            #end_point = (ground[2]['x'],  ground[2]['y'])\n",
    "            #cv2.rectangle(image, start_point, end_point, color,thickness)\n",
    "            pts = []\n",
    "            for pt in ground:\n",
    "                pts.append([pt['x'] ,pt['y']])\n",
    "            \n",
    "            cv2.polylines(image, [np.array(pts)],True, color, thickness)\n",
    "    plt.imshow(image)\n",
    "    if save:\n",
    "        cv2.imwrite(str(uuid.uuid1()) + '.png' , image)\n",
    "        \n",
    "    return image\n"
   ]
  },
  {
   "cell_type": "code",
   "execution_count": null,
   "metadata": {},
   "outputs": [],
   "source": [
    "base_dir = '/home/siddanth/Desktop/craft/anuvaad/anuvaad-etl/anuvaad-extractor/document-processor/word-detector/craft/upload'\n",
    "\n",
    "filename    = 'crafted.pdf'\n",
    "file_format = 'PDF'\n",
    "language    =  'en'\n",
    "\n",
    "app_context.application_context = {\n",
    "    \"input\": {\n",
    "        \"inputs\": [\n",
    "            {\n",
    "                \"file\": {\n",
    "                    \"identifier\": \"string\",\n",
    "                    \"name\": \"crafted.pdf\",\n",
    "                    \"type\": \"PDF\"\n",
    "                },\n",
    "                \"config\": {\n",
    "                    \"OCR\": {\n",
    "                        \"option\": \"HIGH_ACCURACY\",\n",
    "                        \"language\": \"en\",\n",
    "                        \"top_correction\": \"False\",\n",
    "                        \"craft_word\": \"False\",\n",
    "                        \"craft_line\": \"False\",\n",
    "                        \"line_layout\": \"True\",\n",
    "                        \"mask_image\": \"False\"\n",
    "                    }\n",
    "                }\n",
    "            }\n",
    "        ]\n",
    "    }\n",
    "}\n"
   ]
  },
  {
   "cell_type": "code",
   "execution_count": null,
   "metadata": {},
   "outputs": [],
   "source": [
    "resp = TextDetection(app_context,base_dir)\n",
    "filepath = resp['rsp']['outputs'][0]['page_info'][0]\n",
    "save_dir = '/home/siddanth/Desktop/craft/'"
   ]
  },
  {
   "cell_type": "code",
   "execution_count": null,
   "metadata": {},
   "outputs": [],
   "source": [
    "def draw_box(resp,filepath,save_dir,color=\"green\", save=False):\n",
    "    image  = Image.open(filepath)\n",
    "    draw   = ImageDraw.Draw(image)\n",
    "    for i in resp['rsp']['outputs'][0]['pages'][0]['lines']:\n",
    "        draw.rectangle(((i['boundingBox']['vertices'][0]['x'], i['boundingBox']['vertices'][0]['y']), (i['boundingBox']['vertices'][2]['x'],i['boundingBox']['vertices'][2]['y'])), outline=color,width=3)\n",
    "\n",
    "    save_filepath = os.path.join(save_dir, \"bbox_\"+os.path.basename(filepath))\n",
    "    if save:\n",
    "        image.save(save_filepath)\n",
    "    \n",
    "    return image\n",
    "#draw_box(resp,filepath, save_dir, color='green', save=True)"
   ]
  },
  {
   "cell_type": "code",
   "execution_count": null,
   "metadata": {},
   "outputs": [],
   "source": [
    "file_index = 0\n",
    "page_index =0\n",
    "to_check  = 'words'\n",
    "regions    = resp['rsp']['outputs'][file_index]['pages'][page_index][to_check]\n",
    "page_path = resp['rsp']['outputs'][file_index]['page_info'][page_index]\n",
    "\n",
    "#draw_region(page_path,regions)\n"
   ]
  }
 ],
 "metadata": {
  "kernelspec": {
   "display_name": "Python 3.8.8 ('TRON': venv)",
   "language": "python",
   "name": "python3"
  },
  "language_info": {
   "name": "python",
   "version": "3.8.8"
  },
  "orig_nbformat": 4,
  "vscode": {
   "interpreter": {
    "hash": "b2de9da59f54f4aeb6a2474881c97bca6e63c51bc51029f2a65e5e7496867a4f"
   }
  }
 },
 "nbformat": 4,
 "nbformat_minor": 2
}
