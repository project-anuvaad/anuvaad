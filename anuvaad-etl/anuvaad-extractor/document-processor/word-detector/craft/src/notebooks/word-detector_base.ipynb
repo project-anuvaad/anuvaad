{
 "cells": [
  {
   "cell_type": "code",
   "execution_count": 1,
   "metadata": {},
   "outputs": [],
   "source": [
    "import os\n",
    "import sys\n",
    "import uuid\n",
    "import cv2\n",
    "import numpy as np\n",
    "import matplotlib.pyplot as plt\n",
    "from PIL import Image, ImageDraw\n",
    "plt.rcParams['figure.dpi'] = 300"
   ]
  },
  {
   "cell_type": "code",
   "execution_count": 2,
   "metadata": {},
   "outputs": [
    {
     "name": "stdout",
     "output_type": "stream",
     "text": [
      "Loading weights of refiner from checkpoint (./model/craft_refiner_CTW1500.pth)\n",
      "[2024-01-10 17:47:21,962] {detection_checkpoint.py:38} MainThread INFO in detection_checkpoint: [DetectionCheckpointer] Loading from /home/siddanth/Desktop/craft/anuvaad/anuvaad-etl/anuvaad-extractor/document-processor/word-detector/craft/src/utilities/primalinenet/anuvaad_line_v1.pth ...\n",
      "[2024-01-10 17:47:21,963] {checkpoint.py:138} MainThread INFO in checkpoint: [Checkpointer] Loading from /home/siddanth/Desktop/craft/anuvaad/anuvaad-etl/anuvaad-extractor/document-processor/word-detector/craft/src/utilities/primalinenet/anuvaad_line_v1.pth ...\n"
     ]
    }
   ],
   "source": [
    "nb_dir = '/'.join(os.getcwd().split('/')[:-1])\n",
    "sys.path.append(nb_dir)\n",
    "sys.path.append(os.path.split(nb_dir)[0])\n",
    "\n",
    "import config\n",
    "import src.utilities.app_context as app_context\n",
    "app_context.init()\n",
    "\n",
    "#path to craft model, weight can be pulled form the production bracnh of repo\n",
    "config.CRAFT_MODEL_PATH= nb_dir + '/utilities/craft_pytorch/model/craft_mlt_25k.pth'\n",
    "config.CRAFT_REFINE_MODEL_PATH = nb_dir + '/utilities/craft_pytorch/model/craft_refiner_CTW1500.pth'\n",
    "\n",
    "from src.services.main import TextDetection"
   ]
  },
  {
   "cell_type": "code",
   "execution_count": 3,
   "metadata": {},
   "outputs": [],
   "source": [
    "def draw_region(page_path,corrds,color= (255,0,0),thickness=5, save=False):\n",
    "    \n",
    "    if type(page_path) == str :  \n",
    "        image = cv2.imread(page_path) \n",
    "    else :\n",
    "        image = page_path\n",
    "    for region in corrds :\n",
    "            ground = region['boundingBox']['vertices']\n",
    "            #start_point  = (ground[0]['x'],ground[0]['y'])\n",
    "            #end_point = (ground[2]['x'],  ground[2]['y'])\n",
    "            #cv2.rectangle(image, start_point, end_point, color,thickness)\n",
    "            pts = []\n",
    "            for pt in ground:\n",
    "                pts.append([pt['x'] ,pt['y']])\n",
    "            \n",
    "            cv2.polylines(image, [np.array(pts)],True, color, thickness)\n",
    "    plt.imshow(image)\n",
    "    if save:\n",
    "        cv2.imwrite(str(uuid.uuid1()) + '.png' , image)\n",
    "        \n",
    "    return image\n"
   ]
  },
  {
   "cell_type": "code",
   "execution_count": null,
   "metadata": {},
   "outputs": [],
   "source": []
  },
  {
   "cell_type": "code",
   "execution_count": 6,
   "metadata": {},
   "outputs": [],
   "source": [
    "base_dir = '/home/siddanth/Desktop/craft/anuvaad/anuvaad-etl/anuvaad-extractor/document-processor/word-detector/craft/upload'\n",
    "\n",
    "filename    = 'crafted.pdf'\n",
    "file_format = 'PDF'\n",
    "language    =  'en'\n"
   ]
  },
  {
   "cell_type": "code",
   "execution_count": 7,
   "metadata": {},
   "outputs": [],
   "source": [
    "app_context.application_context = {\n",
    "    \"input\": {\n",
    "        \"inputs\": [\n",
    "            {\n",
    "                \"file\": {\n",
    "                    \"identifier\": \"string\",\n",
    "                    \"name\": \"crafted.pdf\",\n",
    "                    \"type\": \"PDF\"\n",
    "                },\n",
    "                \"config\": {\n",
    "                    \"OCR\": {\n",
    "                        \"option\": \"HIGH_ACCURACY\",\n",
    "                        \"language\": \"en\",\n",
    "                        \"top_correction\": \"False\",\n",
    "                        \"craft_word\": \"False\",\n",
    "                        \"craft_line\": \"False\",\n",
    "                        \"line_layout\": \"True\",\n",
    "                        \"mask_image\": \"False\"\n",
    "                    }\n",
    "                }\n",
    "            }\n",
    "        ]\n",
    "    }\n",
    "}"
   ]
  },
  {
   "cell_type": "code",
   "execution_count": 11,
   "metadata": {},
   "outputs": [
    {
     "name": "stdout",
     "output_type": "stream",
     "text": [
      "[2024-01-10 17:50:48,845] {loghandler.py:49} MainThread DEBUG in loghandler: Line detection starting processing {'input': {'inputs': [{'file': {'identifier': 'string', 'name': 'crafted.pdf', 'type': 'PDF'}, 'config': {'OCR': {'option': 'HIGH_ACCURACY', 'language': 'en', 'top_correction': 'False', 'craft_word': 'False', 'craft_line': 'False', 'line_layout': 'True', 'mask_image': 'False'}}}]}, 'outputs': [{'file': {'identifier': 'string', 'name': 'crafted.pdf', 'type': 'PDF'}, 'config': {'OCR': {'option': 'HIGH_ACCURACY', 'language': 'en', 'top_correction': 'False', 'craft_word': 'False', 'craft_line': 'False', 'line_layout': 'True', 'mask_image': 'False'}}, 'pages': [{'identifier': '2474c775-1e01-4953-919d-f33d64733bae', 'boundingBox': {'vertices': [{'x': 0, 'y': 0}, {'x': 2480, 'y': 0}, {'x': 2480, 'y': 3509}, {'x': 0, 'y': 3509}]}, 'resolution': 300, 'regions': [], 'words': [], 'lines': [{'identifier': '3db6faca-229e-4b24-beef-2ea9ab38d5a0', 'boundingBox': {'vertices': [{'x': 609.1296997070312, 'y': 1716.4661865234375}, {'x': 1812.523193359375, 'y': 1716.4661865234375}, {'x': 1812.523193359375, 'y': 1775.306396484375}, {'x': 609.1296997070312, 'y': 1775.306396484375}]}, 'score': '1.00', 'class': 'LINE'}, {'identifier': '7b68f71d-a44c-459d-bf8a-cdd683c0f96b', 'boundingBox': {'vertices': [{'x': 655.0707397460938, 'y': 2292.876953125}, {'x': 1015.9434204101562, 'y': 2292.876953125}, {'x': 1015.9434204101562, 'y': 2339.552734375}, {'x': 655.0707397460938, 'y': 2339.552734375}]}, 'score': '1.00', 'class': 'LINE'}, {'identifier': 'a3343562-0df2-4e95-a07d-1479ea41b492', 'boundingBox': {'vertices': [{'x': 616.0857543945312, 'y': 1540.8350830078125}, {'x': 1683.6259765625, 'y': 1540.8350830078125}, {'x': 1683.6259765625, 'y': 1600.7752685546875}, {'x': 616.0857543945312, 'y': 1600.7752685546875}]}, 'score': '1.00', 'class': 'LINE'}, {'identifier': '4c99ce7e-b0e7-4436-a57b-cf483e46cd80', 'boundingBox': {'vertices': [{'x': 626.4083251953125, 'y': 1369.8408203125}, {'x': 2174.747314453125, 'y': 1369.8408203125}, {'x': 2174.747314453125, 'y': 1426.84228515625}, {'x': 626.4083251953125, 'y': 1426.84228515625}]}, 'score': '1.00', 'class': 'LINE'}, {'identifier': 'a23f4a0c-2e11-4d4f-82de-01ceb58e2df1', 'boundingBox': {'vertices': [{'x': 619.736083984375, 'y': 1600.42919921875}, {'x': 1742.0677490234375, 'y': 1600.42919921875}, {'x': 1742.0677490234375, 'y': 1659.251708984375}, {'x': 619.736083984375, 'y': 1659.251708984375}]}, 'score': '1.00', 'class': 'LINE'}, {'identifier': 'f834ff5a-9f0f-40f3-912c-60bad7a909e7', 'boundingBox': {'vertices': [{'x': 617.87158203125, 'y': 1658.32763671875}, {'x': 1737.6431884765625, 'y': 1658.32763671875}, {'x': 1737.6431884765625, 'y': 1718.54296875}, {'x': 617.87158203125, 'y': 1718.54296875}]}, 'score': '1.00', 'class': 'LINE'}, {'identifier': '8631ca02-2dcd-4d2a-94ec-c5b29baebc21', 'boundingBox': {'vertices': [{'x': 609.466796875, 'y': 1773.251708984375}, {'x': 2312.306396484375, 'y': 1773.251708984375}, {'x': 2312.306396484375, 'y': 1831.84716796875}, {'x': 609.466796875, 'y': 1831.84716796875}]}, 'score': '1.00', 'class': 'LINE'}, {'identifier': '7eb7d8e4-7c64-4614-a93b-a114ed630579', 'boundingBox': {'vertices': [{'x': 655.8198852539062, 'y': 1833.212890625}, {'x': 1084.4248046875, 'y': 1833.212890625}, {'x': 1084.4248046875, 'y': 1890.1773681640625}, {'x': 655.8198852539062, 'y': 1890.1773681640625}]}, 'score': '1.00', 'class': 'LINE'}, {'identifier': 'd860cb5f-5ff3-448a-9a4a-8f5a4330ad0e', 'boundingBox': {'vertices': [{'x': 615.2748413085938, 'y': 1426.603759765625}, {'x': 2253.76904296875, 'y': 1426.603759765625}, {'x': 2253.76904296875, 'y': 1485.3310546875}, {'x': 615.2748413085938, 'y': 1485.3310546875}]}, 'score': '1.00', 'class': 'LINE'}, {'identifier': '35b0f680-7f9b-4fd1-90a6-626de31d8a79', 'boundingBox': {'vertices': [{'x': 618.30126953125, 'y': 1483.56201171875}, {'x': 2256.336669921875, 'y': 1483.56201171875}, {'x': 2256.336669921875, 'y': 1543.732666015625}, {'x': 618.30126953125, 'y': 1543.732666015625}]}, 'score': '1.00', 'class': 'LINE'}, {'identifier': '47893e07-16a8-42e6-aa35-e31eab10ff62', 'boundingBox': {'vertices': [{'x': 626.4306030273438, 'y': 872.1024780273438}, {'x': 2208.549072265625, 'y': 872.1024780273438}, {'x': 2208.549072265625, 'y': 937.91162109375}, {'x': 626.4306030273438, 'y': 937.91162109375}]}, 'score': '1.00', 'class': 'LINE'}, {'identifier': '92630c61-ded8-4571-a4ed-4970b2c3b257', 'boundingBox': {'vertices': [{'x': 613.666748046875, 'y': 2460.215576171875}, {'x': 2252.8173828125, 'y': 2460.215576171875}, {'x': 2252.8173828125, 'y': 2522.22509765625}, {'x': 613.666748046875, 'y': 2522.22509765625}]}, 'score': '1.00', 'class': 'LINE'}, {'identifier': 'f05b66e1-3e23-4609-9a18-4ab46be12e1c', 'boundingBox': {'vertices': [{'x': 645.3646850585938, 'y': 2341.647216796875}, {'x': 2284.856689453125, 'y': 2341.647216796875}, {'x': 2284.856689453125, 'y': 2406.92138671875}, {'x': 645.3646850585938, 'y': 2406.92138671875}]}, 'score': '1.00', 'class': 'LINE'}, {'identifier': '64918a9b-cf9c-4396-a83d-5d2a70bb8ba8', 'boundingBox': {'vertices': [{'x': 622.1966552734375, 'y': 1891.40087890625}, {'x': 2038.3045654296875, 'y': 1891.40087890625}, {'x': 2038.3045654296875, 'y': 1950.860595703125}, {'x': 622.1966552734375, 'y': 1950.860595703125}]}, 'score': '1.00', 'class': 'LINE'}, {'identifier': '9f4166ab-e442-431a-a708-623b27ae6af1', 'boundingBox': {'vertices': [{'x': 651.27490234375, 'y': 2402.0087890625}, {'x': 1736.4603271484375, 'y': 2402.0087890625}, {'x': 1736.4603271484375, 'y': 2462.37548828125}, {'x': 651.27490234375, 'y': 2462.37548828125}]}, 'score': '1.00', 'class': 'LINE'}, {'identifier': '278beca9-b382-4daf-996b-a7d558db7f29', 'boundingBox': {'vertices': [{'x': 626.8716430664062, 'y': 2578.097412109375}, {'x': 1652.5865478515625, 'y': 2578.097412109375}, {'x': 1652.5865478515625, 'y': 2637.532958984375}, {'x': 626.8716430664062, 'y': 2637.532958984375}]}, 'score': '1.00', 'class': 'LINE'}, {'identifier': '9bfd1e01-12c5-4785-afa8-b3b20b6a330b', 'boundingBox': {'vertices': [{'x': 601.99951171875, 'y': 2757.49951171875}, {'x': 2319.546875, 'y': 2757.49951171875}, {'x': 2319.546875, 'y': 2819.18798828125}, {'x': 601.99951171875, 'y': 2819.18798828125}]}, 'score': '1.00', 'class': 'LINE'}, {'identifier': 'a0c9b5b2-4f1a-4fce-8bd9-d8ed02dc16e2', 'boundingBox': {'vertices': [{'x': 615.7498168945312, 'y': 207.7236785888672}, {'x': 1553.815673828125, 'y': 207.7236785888672}, {'x': 1553.815673828125, 'y': 344.53955078125}, {'x': 615.7498168945312, 'y': 344.53955078125}]}, 'score': '1.00', 'class': 'LINE'}, {'identifier': '368ab01e-8600-41ce-981e-4cc184306349', 'boundingBox': {'vertices': [{'x': 604.5726318359375, 'y': 2995.923095703125}, {'x': 2088.641845703125, 'y': 2995.923095703125}, {'x': 2088.641845703125, 'y': 3065.3740234375}, {'x': 604.5726318359375, 'y': 3065.3740234375}]}, 'score': '0.99', 'class': 'LINE'}, {'identifier': '03a433e9-ebb9-4ddf-a432-44c08f6ae0f1', 'boundingBox': {'vertices': [{'x': 659.32470703125, 'y': 2818.94091796875}, {'x': 1875.6051025390625, 'y': 2818.94091796875}, {'x': 1875.6051025390625, 'y': 2878.074462890625}, {'x': 659.32470703125, 'y': 2878.074462890625}]}, 'score': '0.99', 'class': 'LINE'}, {'identifier': '791ec2a0-fd75-4768-9c5d-d46328b4a51e', 'boundingBox': {'vertices': [{'x': 615.3525390625, 'y': 991.9456787109375}, {'x': 1145.985107421875, 'y': 991.9456787109375}, {'x': 1145.985107421875, 'y': 1052.68896484375}, {'x': 615.3525390625, 'y': 1052.68896484375}]}, 'score': '0.99', 'class': 'LINE'}, {'identifier': 'e3c58595-93e7-4dbb-90fc-624ae85c45f9', 'boundingBox': {'vertices': [{'x': 622.437255859375, 'y': 3153.705322265625}, {'x': 1670.560302734375, 'y': 3153.705322265625}, {'x': 1670.560302734375, 'y': 3218.7841796875}, {'x': 622.437255859375, 'y': 3218.7841796875}]}, 'score': '0.99', 'class': 'LINE'}, {'identifier': '939b0db9-8415-4bd9-be82-1a895a02d0df', 'boundingBox': {'vertices': [{'x': 642.6815185546875, 'y': 2879.59033203125}, {'x': 2255.216552734375, 'y': 2879.59033203125}, {'x': 2255.216552734375, 'y': 2939.505615234375}, {'x': 642.6815185546875, 'y': 2939.505615234375}]}, 'score': '0.99', 'class': 'LINE'}, {'identifier': '9774c2be-d202-4d6e-9712-05572113ca1b', 'boundingBox': {'vertices': [{'x': 623.1290893554688, 'y': 2110.3037109375}, {'x': 1238.70068359375, 'y': 2110.3037109375}, {'x': 1238.70068359375, 'y': 2166.34326171875}, {'x': 623.1290893554688, 'y': 2166.34326171875}]}, 'score': '0.99', 'class': 'LINE'}, {'identifier': '418276b9-5a8b-4b89-867a-85bc32b11620', 'boundingBox': {'vertices': [{'x': 607.1968383789062, 'y': 2232.6669921875}, {'x': 2170.919189453125, 'y': 2232.6669921875}, {'x': 2170.919189453125, 'y': 2289.65869140625}, {'x': 607.1968383789062, 'y': 2289.65869140625}]}, 'score': '0.99', 'class': 'LINE'}, {'identifier': 'a8a90646-5eb1-4ee8-9dad-e1c6132f364c', 'boundingBox': {'vertices': [{'x': 607.8460693359375, 'y': 2637.18017578125}, {'x': 2259.314453125, 'y': 2637.18017578125}, {'x': 2259.314453125, 'y': 2699.689208984375}, {'x': 607.8460693359375, 'y': 2699.689208984375}]}, 'score': '0.99', 'class': 'LINE'}, {'identifier': '2fefba14-c622-4852-b998-9238e6cee98a', 'boundingBox': {'vertices': [{'x': 614.47021484375, 'y': 936.0130615234375}, {'x': 2108.625732421875, 'y': 936.0130615234375}, {'x': 2108.625732421875, 'y': 993.9987182617188}, {'x': 614.47021484375, 'y': 993.9987182617188}]}, 'score': '0.99', 'class': 'LINE'}, {'identifier': '5cd7a6e6-c806-4dc6-a59e-4925add9249c', 'boundingBox': {'vertices': [{'x': 622.3314208984375, 'y': 1307.1312255859375}, {'x': 1423.970703125, 'y': 1307.1312255859375}, {'x': 1423.970703125, 'y': 1367.404052734375}, {'x': 622.3314208984375, 'y': 1367.404052734375}]}, 'score': '0.99', 'class': 'LINE'}, {'identifier': '1e4c1a55-b1a9-46f4-8159-a77b468881ea', 'boundingBox': {'vertices': [{'x': 656.6884765625, 'y': 2522.6728515625}, {'x': 740.3175659179688, 'y': 2522.6728515625}, {'x': 740.3175659179688, 'y': 2572.08154296875}, {'x': 656.6884765625, 'y': 2572.08154296875}]}, 'score': '0.99', 'class': 'LINE'}, {'identifier': '324b1d62-b699-4e0a-98c1-86461c5b78a5', 'boundingBox': {'vertices': [{'x': 669.2860717773438, 'y': 627.9820556640625}, {'x': 1276.6732177734375, 'y': 627.9820556640625}, {'x': 1276.6732177734375, 'y': 699.18603515625}, {'x': 669.2860717773438, 'y': 699.18603515625}]}, 'score': '0.99', 'class': 'LINE'}, {'identifier': 'a6390ec2-f245-4bbb-9a04-5bdef2816102', 'boundingBox': {'vertices': [{'x': 615.4540405273438, 'y': 1251.5321044921875}, {'x': 1407.067138671875, 'y': 1251.5321044921875}, {'x': 1407.067138671875, 'y': 1308.363037109375}, {'x': 615.4540405273438, 'y': 1308.363037109375}]}, 'score': '0.99', 'class': 'LINE'}, {'identifier': '72a38b79-839d-47c0-95bb-976264ce4fed', 'boundingBox': {'vertices': [{'x': 634.4009399414062, 'y': 428.4234313964844}, {'x': 1171.7755126953125, 'y': 428.4234313964844}, {'x': 1171.7755126953125, 'y': 513.9344482421875}, {'x': 634.4009399414062, 'y': 513.9344482421875}]}, 'score': '0.99', 'class': 'LINE'}, {'identifier': '7b7a3fd8-227e-4499-8bff-8587456ba1b1', 'boundingBox': {'vertices': [{'x': 656.5093994140625, 'y': 2938.03173828125}, {'x': 1524.2431640625, 'y': 2938.03173828125}, {'x': 1524.2431640625, 'y': 2998.16015625}, {'x': 656.5093994140625, 'y': 2998.16015625}]}, 'score': '0.99', 'class': 'LINE'}, {'identifier': 'cb6bde19-90bc-4ccc-a796-f71b4fef8d66', 'boundingBox': {'vertices': [{'x': 620.8297119140625, 'y': 2702.0498046875}, {'x': 810.5149536132812, 'y': 2702.0498046875}, {'x': 810.5149536132812, 'y': 2753.840576171875}, {'x': 620.8297119140625, 'y': 2753.840576171875}]}, 'score': '0.99', 'class': 'LINE'}, {'identifier': 'b7df50de-eda7-4407-98c2-c03a4386170a', 'boundingBox': {'vertices': [{'x': 623.1137084960938, 'y': 2166.95458984375}, {'x': 1317.5284423828125, 'y': 2166.95458984375}, {'x': 1317.5284423828125, 'y': 2226.8291015625}, {'x': 623.1137084960938, 'y': 2226.8291015625}]}, 'score': '0.98', 'class': 'LINE'}, {'identifier': '6bffe239-8463-4d04-8bd1-1be605173218', 'boundingBox': {'vertices': [{'x': 617.0846557617188, 'y': 1186.89599609375}, {'x': 1234.876708984375, 'y': 1186.89599609375}, {'x': 1234.876708984375, 'y': 1244.481689453125}, {'x': 617.0846557617188, 'y': 1244.481689453125}]}, 'score': '0.98', 'class': 'LINE'}, {'identifier': '17682775-f207-4417-b423-677029505c7d', 'boundingBox': {'vertices': [{'x': 637.062744140625, 'y': 535.8662109375}, {'x': 929.5750732421875, 'y': 535.8662109375}, {'x': 929.5750732421875, 'y': 596.4382934570312}, {'x': 637.062744140625, 'y': 596.4382934570312}]}, 'score': '0.98', 'class': 'LINE'}, {'identifier': '4d36a429-f1ad-4601-b54c-6d27d2c1a323', 'boundingBox': {'vertices': [{'x': 622.7810668945312, 'y': 2047.0455322265625}, {'x': 1582.3284912109375, 'y': 2047.0455322265625}, {'x': 1582.3284912109375, 'y': 2104.3876953125}, {'x': 622.7810668945312, 'y': 2104.3876953125}]}, 'score': '0.97', 'class': 'LINE'}, {'identifier': '4b8ec6b4-b65c-4af5-8ab9-540a83dda158', 'boundingBox': {'vertices': [{'x': 128.18357849121094, 'y': 871.4620361328125}, {'x': 337.8214416503906, 'y': 871.4620361328125}, {'x': 337.8214416503906, 'y': 925.8816528320312}, {'x': 128.18357849121094, 'y': 925.8816528320312}]}, 'score': '0.92', 'class': 'LINE'}, {'identifier': '9d117fc7-7323-4962-a87e-9baaa347888c', 'boundingBox': {'vertices': [{'x': 130.24087524414062, 'y': 1183.4376220703125}, {'x': 381.1106872558594, 'y': 1183.4376220703125}, {'x': 381.1106872558594, 'y': 1237.493896484375}, {'x': 130.24087524414062, 'y': 1237.493896484375}]}, 'score': '0.87', 'class': 'LINE'}]}, {'identifier': 'f22ec3b2-4e4d-4bcb-9637-2e9da8df63d9', 'boundingBox': {'vertices': [{'x': 0, 'y': 0}, {'x': 2480, 'y': 0}, {'x': 2480, 'y': 3509}, {'x': 0, 'y': 3509}]}, 'resolution': 300, 'regions': [], 'words': [], 'lines': [{'identifier': 'f15fdf68-e5e8-40a9-9bd5-b66b541d774b', 'boundingBox': {'vertices': [{'x': 608.426025390625, 'y': 811.2178955078125}, {'x': 1466.056640625, 'y': 811.2178955078125}, {'x': 1466.056640625, 'y': 871.137939453125}, {'x': 608.426025390625, 'y': 871.137939453125}]}, 'score': '1.00', 'class': 'LINE'}, {'identifier': '96bd96a6-327f-4d79-a046-2ec05852940c', 'boundingBox': {'vertices': [{'x': 645.5875244140625, 'y': 294.7157897949219}, {'x': 1653.5850830078125, 'y': 294.7157897949219}, {'x': 1653.5850830078125, 'y': 353.7630310058594}, {'x': 645.5875244140625, 'y': 353.7630310058594}]}, 'score': '1.00', 'class': 'LINE'}, {'identifier': 'eeae48fd-9282-48c3-87b4-54d5f32fb53f', 'boundingBox': {'vertices': [{'x': 611.072265625, 'y': 1957.822021484375}, {'x': 1358.5272216796875, 'y': 1957.822021484375}, {'x': 1358.5272216796875, 'y': 2019.019287109375}, {'x': 611.072265625, 'y': 2019.019287109375}]}, 'score': '1.00', 'class': 'LINE'}, {'identifier': '002a346c-62a5-4ff2-80f3-6e550d0ec614', 'boundingBox': {'vertices': [{'x': 624.0092163085938, 'y': 981.9544067382812}, {'x': 1426.4482421875, 'y': 981.9544067382812}, {'x': 1426.4482421875, 'y': 1048.852294921875}, {'x': 624.0092163085938, 'y': 1048.852294921875}]}, 'score': '1.00', 'class': 'LINE'}, {'identifier': '10e8248a-c9f9-41c0-aee0-f8515e3dab2d', 'boundingBox': {'vertices': [{'x': 617.9208374023438, 'y': 923.1520385742188}, {'x': 2096.281005859375, 'y': 923.1520385742188}, {'x': 2096.281005859375, 'y': 985.344482421875}, {'x': 617.9208374023438, 'y': 985.344482421875}]}, 'score': '1.00', 'class': 'LINE'}, {'identifier': '05489d23-e141-45ed-a7e8-e9f101bfa1e2', 'boundingBox': {'vertices': [{'x': 612.1503295898438, 'y': 2175.524658203125}, {'x': 1008.6563110351562, 'y': 2175.524658203125}, {'x': 1008.6563110351562, 'y': 2237.026123046875}, {'x': 612.1503295898438, 'y': 2237.026123046875}]}, 'score': '1.00', 'class': 'LINE'}, {'identifier': '381dc2b2-ce8b-4ed9-adaf-ae9234f1ef49', 'boundingBox': {'vertices': [{'x': 656.7992553710938, 'y': 533.6293334960938}, {'x': 1057.5589599609375, 'y': 533.6293334960938}, {'x': 1057.5589599609375, 'y': 587.1610717773438}, {'x': 656.7992553710938, 'y': 587.1610717773438}]}, 'score': '1.00', 'class': 'LINE'}, {'identifier': 'c300cdde-91e0-4ba1-b8f1-b7dddbedad81', 'boundingBox': {'vertices': [{'x': 618.8134765625, 'y': 410.09417724609375}, {'x': 2358.88720703125, 'y': 410.09417724609375}, {'x': 2358.88720703125, 'y': 469.8677673339844}, {'x': 618.8134765625, 'y': 469.8677673339844}]}, 'score': '1.00', 'class': 'LINE'}, {'identifier': '7914e3fe-86b1-46d6-bc5a-5924ec98b7ab', 'boundingBox': {'vertices': [{'x': 618.5302734375, 'y': 119.14785766601562}, {'x': 1246.2027587890625, 'y': 119.14785766601562}, {'x': 1246.2027587890625, 'y': 172.8466339111328}, {'x': 618.5302734375, 'y': 172.8466339111328}]}, 'score': '1.00', 'class': 'LINE'}, {'identifier': '7e8dd79c-be4b-4ac4-9dbf-23a83733cc3e', 'boundingBox': {'vertices': [{'x': 661.3405151367188, 'y': 468.68768310546875}, {'x': 2298.185302734375, 'y': 468.68768310546875}, {'x': 2298.185302734375, 'y': 531.5613403320312}, {'x': 661.3405151367188, 'y': 531.5613403320312}]}, 'score': '1.00', 'class': 'LINE'}, {'identifier': 'daff8c57-d76c-46e4-ab1f-3548fc8ff446', 'boundingBox': {'vertices': [{'x': 617.454345703125, 'y': 347.1626281738281}, {'x': 1473.54736328125, 'y': 347.1626281738281}, {'x': 1473.54736328125, 'y': 407.3858947753906}, {'x': 617.454345703125, 'y': 407.3858947753906}]}, 'score': '1.00', 'class': 'LINE'}, {'identifier': '377a66f5-a4e4-41bc-855e-62024bdc6c8f', 'boundingBox': {'vertices': [{'x': 598.51904296875, 'y': 235.98191833496094}, {'x': 2141.89306640625, 'y': 235.98191833496094}, {'x': 2141.89306640625, 'y': 297.1531982421875}, {'x': 598.51904296875, 'y': 297.1531982421875}]}, 'score': '1.00', 'class': 'LINE'}, {'identifier': '260bf5c5-9211-428a-a4ce-b2d725623e66', 'boundingBox': {'vertices': [{'x': 623.568359375, 'y': 1588.7506103515625}, {'x': 864.8739624023438, 'y': 1588.7506103515625}, {'x': 864.8739624023438, 'y': 1643.682373046875}, {'x': 623.568359375, 'y': 1643.682373046875}]}, 'score': '0.99', 'class': 'LINE'}, {'identifier': '587e2f14-98e6-42fc-95a4-d6edce87f4f1', 'boundingBox': {'vertices': [{'x': 616.28759765625, 'y': 754.096923828125}, {'x': 1014.781982421875, 'y': 754.096923828125}, {'x': 1014.781982421875, 'y': 808.0281982421875}, {'x': 616.28759765625, 'y': 808.0281982421875}]}, 'score': '0.99', 'class': 'LINE'}, {'identifier': '7bc66947-2acb-4541-ae22-3bf1fa98db77', 'boundingBox': {'vertices': [{'x': 1517.1900634765625, 'y': 1416.768310546875}, {'x': 1741.1998291015625, 'y': 1416.768310546875}, {'x': 1741.1998291015625, 'y': 1465.2117919921875}, {'x': 1517.1900634765625, 'y': 1465.2117919921875}]}, 'score': '0.99', 'class': 'LINE'}, {'identifier': '2b2df072-e889-494d-8b53-de583196cac6', 'boundingBox': {'vertices': [{'x': 622.7999267578125, 'y': 869.3599243164062}, {'x': 1427.436767578125, 'y': 869.3599243164062}, {'x': 1427.436767578125, 'y': 926.0601806640625}, {'x': 622.7999267578125, 'y': 926.0601806640625}]}, 'score': '0.99', 'class': 'LINE'}, {'identifier': '18ab8896-2c56-4a68-96e5-946bb9537bfc', 'boundingBox': {'vertices': [{'x': 621.0032348632812, 'y': 1834.9913330078125}, {'x': 1909.5311279296875, 'y': 1834.9913330078125}, {'x': 1909.5311279296875, 'y': 1906.6588134765625}, {'x': 621.0032348632812, 'y': 1906.6588134765625}]}, 'score': '0.99', 'class': 'LINE'}, {'identifier': '8ba9cce8-b2c4-4a98-bddf-5654b9550d4c', 'boundingBox': {'vertices': [{'x': 614.21044921875, 'y': 1532.7669677734375}, {'x': 1260.6580810546875, 'y': 1532.7669677734375}, {'x': 1260.6580810546875, 'y': 1578.09716796875}, {'x': 614.21044921875, 'y': 1578.09716796875}]}, 'score': '0.99', 'class': 'LINE'}, {'identifier': '71252c6e-2bde-45b2-bbad-087d3014fafa', 'boundingBox': {'vertices': [{'x': 617.1873168945312, 'y': 688.040283203125}, {'x': 1263.8773193359375, 'y': 688.040283203125}, {'x': 1263.8773193359375, 'y': 748.135986328125}, {'x': 617.1873168945312, 'y': 748.135986328125}]}, 'score': '0.99', 'class': 'LINE'}, {'identifier': '5963d0de-c146-428e-be98-31b3fb064a95', 'boundingBox': {'vertices': [{'x': 603.482177734375, 'y': 178.6082305908203}, {'x': 1763.396240234375, 'y': 178.6082305908203}, {'x': 1763.396240234375, 'y': 233.26644897460938}, {'x': 603.482177734375, 'y': 233.26644897460938}]}, 'score': '0.99', 'class': 'LINE'}, {'identifier': '7b4767e8-6201-4ded-89a9-c1c17caa8264', 'boundingBox': {'vertices': [{'x': 618.3829345703125, 'y': 1357.1446533203125}, {'x': 961.0951538085938, 'y': 1357.1446533203125}, {'x': 961.0951538085938, 'y': 1410.3123779296875}, {'x': 618.3829345703125, 'y': 1410.3123779296875}]}, 'score': '0.99', 'class': 'LINE'}, {'identifier': 'db35434b-dc6f-46c6-bf5c-7b1798ce764d', 'boundingBox': {'vertices': [{'x': 1519.424560546875, 'y': 1299.223388671875}, {'x': 2213.095703125, 'y': 1299.223388671875}, {'x': 2213.095703125, 'y': 1355.9520263671875}, {'x': 1519.424560546875, 'y': 1355.9520263671875}]}, 'score': '0.99', 'class': 'LINE'}, {'identifier': '8fcfeb37-8769-4a71-b8d0-a291d5436bad', 'boundingBox': {'vertices': [{'x': 623.0662841796875, 'y': 1413.8037109375}, {'x': 801.1752319335938, 'y': 1413.8037109375}, {'x': 801.1752319335938, 'y': 1470.3839111328125}, {'x': 623.0662841796875, 'y': 1470.3839111328125}]}, 'score': '0.98', 'class': 'LINE'}, {'identifier': '4dceaf0b-84e6-4b6e-b8e7-50cecc9e5f78', 'boundingBox': {'vertices': [{'x': 1518.874267578125, 'y': 1588.313720703125}, {'x': 1897.563232421875, 'y': 1588.313720703125}, {'x': 1897.563232421875, 'y': 1640.7530517578125}, {'x': 1518.874267578125, 'y': 1640.7530517578125}]}, 'score': '0.98', 'class': 'LINE'}, {'identifier': '27be5865-81f3-4d5b-8f50-b84ec20ba06b', 'boundingBox': {'vertices': [{'x': 619.328857421875, 'y': 1900.7554931640625}, {'x': 813.0176391601562, 'y': 1900.7554931640625}, {'x': 813.0176391601562, 'y': 1952.2174072265625}, {'x': 619.328857421875, 'y': 1952.2174072265625}]}, 'score': '0.98', 'class': 'LINE'}, {'identifier': '2bd20af8-0bc9-4395-ba7c-d0c51efb6dff', 'boundingBox': {'vertices': [{'x': 617.9744262695312, 'y': 1295.4866943359375}, {'x': 1024.6658935546875, 'y': 1295.4866943359375}, {'x': 1024.6658935546875, 'y': 1354.2576904296875}, {'x': 617.9744262695312, 'y': 1354.2576904296875}]}, 'score': '0.98', 'class': 'LINE'}, {'identifier': '505093d9-eaf0-495b-9a03-b842b2d8c5d2', 'boundingBox': {'vertices': [{'x': 1521.265380859375, 'y': 1180.7718505859375}, {'x': 1747.515380859375, 'y': 1180.7718505859375}, {'x': 1747.515380859375, 'y': 1236.9820556640625}, {'x': 1521.265380859375, 'y': 1236.9820556640625}]}, 'score': '0.98', 'class': 'LINE'}, {'identifier': '35ea7373-051b-44e1-883d-7fce3312771b', 'boundingBox': {'vertices': [{'x': 1520.81103515625, 'y': 1473.8187255859375}, {'x': 1710.7689208984375, 'y': 1473.8187255859375}, {'x': 1710.7689208984375, 'y': 1524.2686767578125}, {'x': 1520.81103515625, 'y': 1524.2686767578125}]}, 'score': '0.98', 'class': 'LINE'}, {'identifier': 'f8a10455-039d-438b-932d-5786cbb2f0bf', 'boundingBox': {'vertices': [{'x': 620.6666259765625, 'y': 1187.32470703125}, {'x': 762.8219604492188, 'y': 1187.32470703125}, {'x': 762.8219604492188, 'y': 1232.8736572265625}, {'x': 620.6666259765625, 'y': 1232.8736572265625}]}, 'score': '0.98', 'class': 'LINE'}, {'identifier': '350b5dad-4b9a-46ab-89f7-a76f5f8214ac', 'boundingBox': {'vertices': [{'x': 612.8475952148438, 'y': 2117.8818359375}, {'x': 1446.8807373046875, 'y': 2117.8818359375}, {'x': 1446.8807373046875, 'y': 2176.453857421875}, {'x': 612.8475952148438, 'y': 2176.453857421875}]}, 'score': '0.97', 'class': 'LINE'}, {'identifier': '3d8a25e5-c28a-468e-b0da-3ca167a68610', 'boundingBox': {'vertices': [{'x': 613.8619995117188, 'y': 1473.61181640625}, {'x': 810.9525146484375, 'y': 1473.61181640625}, {'x': 810.9525146484375, 'y': 1525.14599609375}, {'x': 613.8619995117188, 'y': 1525.14599609375}]}, 'score': '0.97', 'class': 'LINE'}, {'identifier': 'f4302947-0d08-4914-a77b-37fae69ef49c', 'boundingBox': {'vertices': [{'x': 1519.87353515625, 'y': 1359.1717529296875}, {'x': 1658.622314453125, 'y': 1359.1717529296875}, {'x': 1658.622314453125, 'y': 1405.6861572265625}, {'x': 1519.87353515625, 'y': 1405.6861572265625}]}, 'score': '0.97', 'class': 'LINE'}, {'identifier': 'd3722432-ee80-4a08-8592-e83322da692d', 'boundingBox': {'vertices': [{'x': 134.8051300048828, 'y': 1172.5792236328125}, {'x': 259.51251220703125, 'y': 1172.5792236328125}, {'x': 259.51251220703125, 'y': 1228.047607421875}, {'x': 134.8051300048828, 'y': 1228.047607421875}]}, 'score': '0.96', 'class': 'LINE'}, {'identifier': '2998eb20-1585-45e5-a6f4-793116cd9bf8', 'boundingBox': {'vertices': [{'x': 618.1266479492188, 'y': 1646.9422607421875}, {'x': 759.8273315429688, 'y': 1646.9422607421875}, {'x': 759.8273315429688, 'y': 1696.38427734375}, {'x': 618.1266479492188, 'y': 1696.38427734375}]}, 'score': '0.92', 'class': 'LINE'}, {'identifier': 'e82292f3-b4ea-4984-9679-1d1059d8cdc4', 'boundingBox': {'vertices': [{'x': 619.338623046875, 'y': 1239.5098876953125}, {'x': 721.0414428710938, 'y': 1239.5098876953125}, {'x': 721.0414428710938, 'y': 1289.1844482421875}, {'x': 619.338623046875, 'y': 1289.1844482421875}]}, 'score': '0.91', 'class': 'LINE'}, {'identifier': '9bb29780-e07f-401c-9942-7f3ad2b0e857', 'boundingBox': {'vertices': [{'x': 1520.1678466796875, 'y': 1530.2742919921875}, {'x': 1637.9461669921875, 'y': 1530.2742919921875}, {'x': 1637.9461669921875, 'y': 1579.0758056640625}, {'x': 1520.1678466796875, 'y': 1579.0758056640625}]}, 'score': '0.88', 'class': 'LINE'}, {'identifier': 'd8743140-0161-4aee-9f49-61472b7dcccd', 'boundingBox': {'vertices': [{'x': 130.3895263671875, 'y': 1828.7216796875}, {'x': 372.3296813964844, 'y': 1828.7216796875}, {'x': 372.3296813964844, 'y': 1887.8642578125}, {'x': 130.3895263671875, 'y': 1887.8642578125}]}, 'score': '0.88', 'class': 'LINE'}, {'identifier': 'd8c8d115-fdb8-4031-a609-c86c550b73fd', 'boundingBox': {'vertices': [{'x': 1515.3084716796875, 'y': 1240.6708984375}, {'x': 1659.681396484375, 'y': 1240.6708984375}, {'x': 1659.681396484375, 'y': 1288.756103515625}, {'x': 1515.3084716796875, 'y': 1288.756103515625}]}, 'score': '0.79', 'class': 'LINE'}]}], 'page_info': ['/home/siddanth/Desktop/craft/anuvaad/anuvaad-etl/anuvaad-extractor/document-processor/word-detector/craft/upload/crafted_2dc116f3-0d95-4546-a6ed-d1c62c935f86/images/crafted0001-1.jpg', '/home/siddanth/Desktop/craft/anuvaad/anuvaad-etl/anuvaad-extractor/document-processor/word-detector/craft/upload/crafted_2dc116f3-0d95-4546-a6ed-d1c62c935f86/images/crafted0001-2.jpg'], 'status': {'code': 200, 'message': 'word-detector successful'}}]}\n",
      "[2024-01-10 17:50:48,849] {loghandler.py:21} MainThread INFO in loghandler: created processing directories successfully /home/siddanth/Desktop/craft/anuvaad/anuvaad-etl/anuvaad-extractor/document-processor/word-detector/craft/upload/crafted_25e273e3-bddf-404b-a4a0-8de37ab022f5\n",
      "[2024-01-10 17:50:48,849] {loghandler.py:21} MainThread INFO in loghandler: filepath /home/siddanth/Desktop/craft/anuvaad/anuvaad-etl/anuvaad-extractor/document-processor/word-detector/craft/upload/crafted.pdf, working_dir /home/siddanth/Desktop/craft/anuvaad/anuvaad-etl/anuvaad-extractor/document-processor/word-detector/craft/upload/crafted_25e273e3-bddf-404b-a4a0-8de37ab022f5\n",
      "[2024-01-10 17:50:49,175] {loghandler.py:21} MainThread INFO in loghandler: Extracting images of /home/siddanth/Desktop/craft/anuvaad/anuvaad-etl/anuvaad-extractor/document-processor/word-detector/craft/upload/crafted.pdf\n",
      "[2024-01-10 17:50:49,176] {loghandler.py:21} MainThread INFO in loghandler: Extraction of /home/siddanth/Desktop/craft/anuvaad/anuvaad-etl/anuvaad-extractor/document-processor/word-detector/craft/upload/crafted.pdf completed in 0.32760000228881836\n",
      "[2024-01-10 17:50:49,320] {loghandler.py:21} MainThread INFO in loghandler: Line detection started by prima linenet model\n"
     ]
    }
   ],
   "source": [
    "resp = TextDetection(app_context,base_dir)\n",
    "filepath = resp['rsp']['outputs'][0]['page_info'][0]\n",
    "save_dir = '/home/siddanth/Desktop/craft/'"
   ]
  },
  {
   "cell_type": "code",
   "execution_count": 18,
   "metadata": {},
   "outputs": [],
   "source": [
    "def draw_box(resp,filepath,save_dir,color=\"green\", save=False):\n",
    "    image  = Image.open(filepath)\n",
    "    draw   = ImageDraw.Draw(image)\n",
    "    for i in resp['rsp']['outputs'][0]['pages'][0]['lines']:\n",
    "        draw.rectangle(((i['boundingBox']['vertices'][0]['x'], i['boundingBox']['vertices'][0]['y']), (i['boundingBox']['vertices'][2]['x'],i['boundingBox']['vertices'][2]['y'])), outline=color,width=3)\n",
    "\n",
    "    save_filepath = os.path.join(save_dir, \"bbox_\"+os.path.basename(filepath))\n",
    "    if save:\n",
    "        image.save(save_filepath)\n",
    "    \n",
    "    return image\n",
    "#draw_box(resp,filepath, save_dir, color='green', save=True)"
   ]
  },
  {
   "cell_type": "code",
   "execution_count": 19,
   "metadata": {},
   "outputs": [],
   "source": [
    "file_index = 0\n",
    "page_index =0\n",
    "to_check  = 'words'\n",
    "\n",
    "regions    = resp['rsp']['outputs'][file_index]['pages'][page_index][to_check]\n",
    "page_path = resp['rsp']['outputs'][file_index]['page_info'][page_index]\n",
    "\n",
    "\n",
    "#draw_region(page_path,regions)"
   ]
  },
  {
   "cell_type": "code",
   "execution_count": null,
   "metadata": {},
   "outputs": [],
   "source": [
    "page_path"
   ]
  },
  {
   "cell_type": "code",
   "execution_count": null,
   "metadata": {},
   "outputs": [],
   "source": [
    "page_image"
   ]
  },
  {
   "cell_type": "code",
   "execution_count": null,
   "metadata": {},
   "outputs": [],
   "source": []
  },
  {
   "cell_type": "code",
   "execution_count": null,
   "metadata": {},
   "outputs": [],
   "source": []
  }
 ],
 "metadata": {
  "kernelspec": {
   "display_name": "Python 3.8.8 ('craftnall': venv)",
   "language": "python",
   "name": "python3"
  },
  "language_info": {
   "codemirror_mode": {
    "name": "ipython",
    "version": 3
   },
   "file_extension": ".py",
   "mimetype": "text/x-python",
   "name": "python",
   "nbconvert_exporter": "python",
   "pygments_lexer": "ipython3",
   "version": "3.8.8"
  },
  "vscode": {
   "interpreter": {
    "hash": "855ffec741698731631cf47f6f1259b78603c7630f3a1998429dd86bd17e9f6f"
   }
  }
 },
 "nbformat": 4,
 "nbformat_minor": 4
}
